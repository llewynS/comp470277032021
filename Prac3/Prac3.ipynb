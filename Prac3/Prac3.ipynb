{
 "cells": [
  {
   "cell_type": "markdown",
   "metadata": {},
   "source": [
    "# Prac 3\n",
    "\n",
    "notes: for Q2 see Alpaydin eq 5.21 and Table 5.1\n"
   ]
  },
  {
   "cell_type": "code",
   "execution_count": 17,
   "metadata": {},
   "outputs": [],
   "source": [
    "import pandas as pd\n",
    "import scipy.stats as sps"
   ]
  },
  {
   "cell_type": "code",
   "execution_count": 3,
   "metadata": {},
   "outputs": [],
   "source": [
    "pima_data = pd.read_csv('pima_indians_diabetes.csv')"
   ]
  },
  {
   "cell_type": "code",
   "execution_count": 5,
   "metadata": {},
   "outputs": [],
   "source": [
    "pima_data_train = pima_data.loc[:499,:]"
   ]
  },
  {
   "cell_type": "code",
   "execution_count": 7,
   "metadata": {},
   "outputs": [],
   "source": [
    "pima_data_test = pima_data.loc[500:,:]"
   ]
  },
  {
   "cell_type": "code",
   "execution_count": 20,
   "metadata": {},
   "outputs": [],
   "source": [
    "# Separate into classes to calculate parameters\n",
    "pos_data = pima_data_train[pima_data_train['9']=='pos']\n",
    "neg_data = pima_data_train[pima_data_train['9']=='neg']"
   ]
  },
  {
   "cell_type": "code",
   "execution_count": 13,
   "metadata": {},
   "outputs": [],
   "source": [
    "# Get multivariate gaussian parameters from training data\n",
    "mu_pos = pos_data.mean()\n",
    "cov_pos = pos_data.cov()\n",
    "mu_neg = neg_data.mean()\n",
    "cov_neg = neg_data.cov()"
   ]
  },
  {
   "cell_type": "code",
   "execution_count": 27,
   "metadata": {},
   "outputs": [],
   "source": [
    "# Calculate liklihood p(.|c_i)\n",
    "likelihood_pos = sps.multivariate_normal(mu_pos, cov_pos)\n",
    "likelihood_neg = sps.multivariate_normal(mu_neg, cov_neg)\n",
    "# Estimate Prior\n",
    "prior_pos = pos_data.shape[0]/pima_data_train.shape[0]\n",
    "prior_neg = neg_data.shape[0]/pima_data_train.shape[0]\n",
    "# Normalising constant (optional)\n",
    "\n",
    "# Calculate the posterior\n"
   ]
  },
  {
   "cell_type": "code",
   "execution_count": 28,
   "metadata": {},
   "outputs": [],
   "source": [
    "# Training Error\n",
    "data_dims = ['1','2','3','4','5','6','7','8']\n",
    "l_train_pos = likelihood_pos.pdf(pima_data_train.loc[:,data_dims])"
   ]
  },
  {
   "cell_type": "code",
   "execution_count": null,
   "metadata": {},
   "outputs": [],
   "source": [
    "# Test Error"
   ]
  }
 ],
 "metadata": {
  "kernelspec": {
   "display_name": "Python 3",
   "language": "python",
   "name": "python3"
  },
  "language_info": {
   "codemirror_mode": {
    "name": "ipython",
    "version": 3
   },
   "file_extension": ".py",
   "mimetype": "text/x-python",
   "name": "python",
   "nbconvert_exporter": "python",
   "pygments_lexer": "ipython3",
   "version": "3.7.4"
  }
 },
 "nbformat": 4,
 "nbformat_minor": 2
}
